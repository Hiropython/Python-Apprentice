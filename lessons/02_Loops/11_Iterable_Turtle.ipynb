{
 "cells": [
  {
   "cell_type": "code",
   "execution_count": 2,
   "metadata": {},
   "outputs": [
    {
     "ename": "TurtleGraphicsError",
     "evalue": "bad color string: r",
     "output_type": "error",
     "traceback": [
      "\u001b[0;31m---------------------------------------------------------------------------\u001b[0m",
      "\u001b[0;31mTurtleGraphicsError\u001b[0m                       Traceback (most recent call last)",
      "Cell \u001b[0;32mIn[2], line 28\u001b[0m\n\u001b[1;32m     24\u001b[0m \u001b[38;5;66;03m# Zip the colors and directions together, then unpack them. THere is a good example of this\u001b[39;00m\n\u001b[1;32m     25\u001b[0m \u001b[38;5;66;03m# in 10_More_iterables.ipynb in the discussion of zip()\u001b[39;00m\n\u001b[1;32m     27\u001b[0m \u001b[38;5;28;01mfor\u001b[39;00m c,d \u001b[38;5;129;01min\u001b[39;00m \u001b[38;5;28mzip\u001b[39m( colors, directions ):\n\u001b[0;32m---> 28\u001b[0m     \u001b[43mtina\u001b[49m\u001b[38;5;241;43m.\u001b[39;49m\u001b[43mcolor\u001b[49m\u001b[43m(\u001b[49m\u001b[43mc\u001b[49m\u001b[43m)\u001b[49m\n\u001b[1;32m     29\u001b[0m     tina\u001b[38;5;241m.\u001b[39mforward( d[\u001b[38;5;241m1\u001b[39m] )\n\u001b[1;32m     30\u001b[0m     tina\u001b[38;5;241m.\u001b[39mleft( d[\u001b[38;5;241m0\u001b[39m] )\n",
      "File \u001b[0;32m/usr/local/lib/python3.12/turtle.py:2215\u001b[0m, in \u001b[0;36mTPen.color\u001b[0;34m(self, *args)\u001b[0m\n\u001b[1;32m   2213\u001b[0m \u001b[38;5;28;01melif\u001b[39;00m l \u001b[38;5;241m==\u001b[39m \u001b[38;5;241m3\u001b[39m:\n\u001b[1;32m   2214\u001b[0m     pcolor \u001b[38;5;241m=\u001b[39m fcolor \u001b[38;5;241m=\u001b[39m args\n\u001b[0;32m-> 2215\u001b[0m pcolor \u001b[38;5;241m=\u001b[39m \u001b[38;5;28;43mself\u001b[39;49m\u001b[38;5;241;43m.\u001b[39;49m\u001b[43m_colorstr\u001b[49m\u001b[43m(\u001b[49m\u001b[43mpcolor\u001b[49m\u001b[43m)\u001b[49m\n\u001b[1;32m   2216\u001b[0m fcolor \u001b[38;5;241m=\u001b[39m \u001b[38;5;28mself\u001b[39m\u001b[38;5;241m.\u001b[39m_colorstr(fcolor)\n\u001b[1;32m   2217\u001b[0m \u001b[38;5;28mself\u001b[39m\u001b[38;5;241m.\u001b[39mpen(pencolor\u001b[38;5;241m=\u001b[39mpcolor, fillcolor\u001b[38;5;241m=\u001b[39mfcolor)\n",
      "File \u001b[0;32m/usr/local/lib/python3.12/turtle.py:2704\u001b[0m, in \u001b[0;36mRawTurtle._colorstr\u001b[0;34m(self, args)\u001b[0m\n\u001b[1;32m   2703\u001b[0m \u001b[38;5;28;01mdef\u001b[39;00m \u001b[38;5;21m_colorstr\u001b[39m(\u001b[38;5;28mself\u001b[39m, args):\n\u001b[0;32m-> 2704\u001b[0m     \u001b[38;5;28;01mreturn\u001b[39;00m \u001b[38;5;28;43mself\u001b[39;49m\u001b[38;5;241;43m.\u001b[39;49m\u001b[43mscreen\u001b[49m\u001b[38;5;241;43m.\u001b[39;49m\u001b[43m_colorstr\u001b[49m\u001b[43m(\u001b[49m\u001b[43margs\u001b[49m\u001b[43m)\u001b[49m\n",
      "File \u001b[0;32m/usr/local/lib/python3.12/turtle.py:1150\u001b[0m, in \u001b[0;36mTurtleScreen._colorstr\u001b[0;34m(self, color)\u001b[0m\n\u001b[1;32m   1148\u001b[0m         \u001b[38;5;28;01mreturn\u001b[39;00m color\n\u001b[1;32m   1149\u001b[0m     \u001b[38;5;28;01melse\u001b[39;00m:\n\u001b[0;32m-> 1150\u001b[0m         \u001b[38;5;28;01mraise\u001b[39;00m TurtleGraphicsError(\u001b[38;5;124m\"\u001b[39m\u001b[38;5;124mbad color string: \u001b[39m\u001b[38;5;132;01m%s\u001b[39;00m\u001b[38;5;124m\"\u001b[39m \u001b[38;5;241m%\u001b[39m \u001b[38;5;28mstr\u001b[39m(color))\n\u001b[1;32m   1151\u001b[0m \u001b[38;5;28;01mtry\u001b[39;00m:\n\u001b[1;32m   1152\u001b[0m     r, g, b \u001b[38;5;241m=\u001b[39m color\n",
      "\u001b[0;31mTurtleGraphicsError\u001b[0m: bad color string: r"
     ]
    }
   ],
   "source": [
    "\"\"\"\n",
    "Programmable turtle graphics\n",
    "\n",
    "Use what you've learned about lists, loop, cycle, slice and zip to draw a pattern\n",
    "\n",
    "\"\"\"\n",
    "\n",
    "import turtle                           # Tell Python we want to work with the turtle\n",
    "turtle.setup (width=600, height=600)    # Set the size of the window\n",
    "\n",
    "tina = turtle.Turtle()                  # Create a turtle named tina\n",
    "\n",
    "tina.shape('turtle')                    # Set the shape of the turtle to a turtle\n",
    "tina.speed(2)                           # Make the turtle move as fast, but not too fast. \n",
    "\n",
    "\n",
    "colors = \"red, orange, yellow, green, blue, purple\"\n",
    "\n",
    "directions = [ # Create a list of directions and angles\n",
    "    ( 50, 60),\n",
    "    ( 40, 90), (80,30), (10,190),(100,180),(90,170)\n",
    "]\n",
    "\n",
    "# Zip the colors and directions together, then unpack them. THere is a good example of this\n",
    "# in 10_More_iterables.ipynb in the discussion of zip()\n",
    "\n",
    "for c,d in zip( colors, directions ):\n",
    "    tina.color(c)\n",
    "    tina.forward( d[1] )\n",
    "    tina.left( d[0] )\n",
    "\n",
    "\n",
    "# Don't forget the special way to end a turtle program. \n"
   ]
  }
 ],
 "metadata": {
  "kernelspec": {
   "display_name": "Python 3",
   "language": "python",
   "name": "python3"
  },
  "language_info": {
   "codemirror_mode": {
    "name": "ipython",
    "version": 3
   },
   "file_extension": ".py",
   "mimetype": "text/x-python",
   "name": "python",
   "nbconvert_exporter": "python",
   "pygments_lexer": "ipython3",
   "version": "3.12.4"
  }
 },
 "nbformat": 4,
 "nbformat_minor": 2
}
